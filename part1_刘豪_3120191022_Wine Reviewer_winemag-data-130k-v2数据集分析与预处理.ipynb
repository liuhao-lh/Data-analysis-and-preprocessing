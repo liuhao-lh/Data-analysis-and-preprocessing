{
 "cells": [
  {
   "cell_type": "markdown",
   "metadata": {},
   "source": [
    "# Wine Reviewer: winemag-data-130k-v2数据集分析与预处理"
   ]
  },
  {
   "cell_type": "markdown",
   "metadata": {},
   "source": [
    "## 1.导入文件和使用的函数库，并查看前五行"
   ]
  },
  {
   "cell_type": "code",
   "execution_count": 1,
   "metadata": {
    "scrolled": true
   },
   "outputs": [
    {
     "data": {
      "text/html": [
       "<div>\n",
       "<style scoped>\n",
       "    .dataframe tbody tr th:only-of-type {\n",
       "        vertical-align: middle;\n",
       "    }\n",
       "\n",
       "    .dataframe tbody tr th {\n",
       "        vertical-align: top;\n",
       "    }\n",
       "\n",
       "    .dataframe thead th {\n",
       "        text-align: right;\n",
       "    }\n",
       "</style>\n",
       "<table border=\"1\" class=\"dataframe\">\n",
       "  <thead>\n",
       "    <tr style=\"text-align: right;\">\n",
       "      <th></th>\n",
       "      <th>country</th>\n",
       "      <th>description</th>\n",
       "      <th>designation</th>\n",
       "      <th>points</th>\n",
       "      <th>price</th>\n",
       "      <th>province</th>\n",
       "      <th>region_1</th>\n",
       "      <th>region_2</th>\n",
       "      <th>taster_name</th>\n",
       "      <th>taster_twitter_handle</th>\n",
       "      <th>title</th>\n",
       "      <th>variety</th>\n",
       "      <th>winery</th>\n",
       "    </tr>\n",
       "  </thead>\n",
       "  <tbody>\n",
       "    <tr>\n",
       "      <td>0</td>\n",
       "      <td>Italy</td>\n",
       "      <td>Aromas include tropical fruit, broom, brimston...</td>\n",
       "      <td>Vulkà Bianco</td>\n",
       "      <td>87</td>\n",
       "      <td>NaN</td>\n",
       "      <td>Sicily &amp; Sardinia</td>\n",
       "      <td>Etna</td>\n",
       "      <td>NaN</td>\n",
       "      <td>Kerin O’Keefe</td>\n",
       "      <td>@kerinokeefe</td>\n",
       "      <td>Nicosia 2013 Vulkà Bianco  (Etna)</td>\n",
       "      <td>White Blend</td>\n",
       "      <td>Nicosia</td>\n",
       "    </tr>\n",
       "    <tr>\n",
       "      <td>1</td>\n",
       "      <td>Portugal</td>\n",
       "      <td>This is ripe and fruity, a wine that is smooth...</td>\n",
       "      <td>Avidagos</td>\n",
       "      <td>87</td>\n",
       "      <td>15.0</td>\n",
       "      <td>Douro</td>\n",
       "      <td>NaN</td>\n",
       "      <td>NaN</td>\n",
       "      <td>Roger Voss</td>\n",
       "      <td>@vossroger</td>\n",
       "      <td>Quinta dos Avidagos 2011 Avidagos Red (Douro)</td>\n",
       "      <td>Portuguese Red</td>\n",
       "      <td>Quinta dos Avidagos</td>\n",
       "    </tr>\n",
       "    <tr>\n",
       "      <td>2</td>\n",
       "      <td>US</td>\n",
       "      <td>Tart and snappy, the flavors of lime flesh and...</td>\n",
       "      <td>NaN</td>\n",
       "      <td>87</td>\n",
       "      <td>14.0</td>\n",
       "      <td>Oregon</td>\n",
       "      <td>Willamette Valley</td>\n",
       "      <td>Willamette Valley</td>\n",
       "      <td>Paul Gregutt</td>\n",
       "      <td>@paulgwine</td>\n",
       "      <td>Rainstorm 2013 Pinot Gris (Willamette Valley)</td>\n",
       "      <td>Pinot Gris</td>\n",
       "      <td>Rainstorm</td>\n",
       "    </tr>\n",
       "    <tr>\n",
       "      <td>3</td>\n",
       "      <td>US</td>\n",
       "      <td>Pineapple rind, lemon pith and orange blossom ...</td>\n",
       "      <td>Reserve Late Harvest</td>\n",
       "      <td>87</td>\n",
       "      <td>13.0</td>\n",
       "      <td>Michigan</td>\n",
       "      <td>Lake Michigan Shore</td>\n",
       "      <td>NaN</td>\n",
       "      <td>Alexander Peartree</td>\n",
       "      <td>NaN</td>\n",
       "      <td>St. Julian 2013 Reserve Late Harvest Riesling ...</td>\n",
       "      <td>Riesling</td>\n",
       "      <td>St. Julian</td>\n",
       "    </tr>\n",
       "    <tr>\n",
       "      <td>4</td>\n",
       "      <td>US</td>\n",
       "      <td>Much like the regular bottling from 2012, this...</td>\n",
       "      <td>Vintner's Reserve Wild Child Block</td>\n",
       "      <td>87</td>\n",
       "      <td>65.0</td>\n",
       "      <td>Oregon</td>\n",
       "      <td>Willamette Valley</td>\n",
       "      <td>Willamette Valley</td>\n",
       "      <td>Paul Gregutt</td>\n",
       "      <td>@paulgwine</td>\n",
       "      <td>Sweet Cheeks 2012 Vintner's Reserve Wild Child...</td>\n",
       "      <td>Pinot Noir</td>\n",
       "      <td>Sweet Cheeks</td>\n",
       "    </tr>\n",
       "  </tbody>\n",
       "</table>\n",
       "</div>"
      ],
      "text/plain": [
       "    country                                        description  \\\n",
       "0     Italy  Aromas include tropical fruit, broom, brimston...   \n",
       "1  Portugal  This is ripe and fruity, a wine that is smooth...   \n",
       "2        US  Tart and snappy, the flavors of lime flesh and...   \n",
       "3        US  Pineapple rind, lemon pith and orange blossom ...   \n",
       "4        US  Much like the regular bottling from 2012, this...   \n",
       "\n",
       "                          designation  points  price           province  \\\n",
       "0                        Vulkà Bianco      87    NaN  Sicily & Sardinia   \n",
       "1                            Avidagos      87   15.0              Douro   \n",
       "2                                 NaN      87   14.0             Oregon   \n",
       "3                Reserve Late Harvest      87   13.0           Michigan   \n",
       "4  Vintner's Reserve Wild Child Block      87   65.0             Oregon   \n",
       "\n",
       "              region_1           region_2         taster_name  \\\n",
       "0                 Etna                NaN       Kerin O’Keefe   \n",
       "1                  NaN                NaN          Roger Voss   \n",
       "2    Willamette Valley  Willamette Valley        Paul Gregutt   \n",
       "3  Lake Michigan Shore                NaN  Alexander Peartree   \n",
       "4    Willamette Valley  Willamette Valley        Paul Gregutt   \n",
       "\n",
       "  taster_twitter_handle                                              title  \\\n",
       "0          @kerinokeefe                  Nicosia 2013 Vulkà Bianco  (Etna)   \n",
       "1            @vossroger      Quinta dos Avidagos 2011 Avidagos Red (Douro)   \n",
       "2           @paulgwine       Rainstorm 2013 Pinot Gris (Willamette Valley)   \n",
       "3                   NaN  St. Julian 2013 Reserve Late Harvest Riesling ...   \n",
       "4           @paulgwine   Sweet Cheeks 2012 Vintner's Reserve Wild Child...   \n",
       "\n",
       "          variety               winery  \n",
       "0     White Blend              Nicosia  \n",
       "1  Portuguese Red  Quinta dos Avidagos  \n",
       "2      Pinot Gris            Rainstorm  \n",
       "3        Riesling           St. Julian  \n",
       "4      Pinot Noir         Sweet Cheeks  "
      ]
     },
     "execution_count": 1,
     "metadata": {},
     "output_type": "execute_result"
    }
   ],
   "source": [
    "import numpy as np\n",
    "import pandas as pd\n",
    "from scipy import stats\n",
    "import matplotlib.pyplot as plt\n",
    "from sklearn.ensemble import RandomForestRegressor\n",
    "from sklearn.neighbors import KNeighborsClassifier\n",
    "data = pd.read_csv(\"/Users/liuhao/Desktop/刘豪_3120191022/wine-reviews/winemag-data-130k-v2.csv\", index_col=0)\n",
    "data.head()"
   ]
  },
  {
   "cell_type": "code",
   "execution_count": 2,
   "metadata": {},
   "outputs": [
    {
     "name": "stdout",
     "output_type": "stream",
     "text": [
      "<class 'pandas.core.frame.DataFrame'>\n",
      "Int64Index: 129971 entries, 0 to 129970\n",
      "Data columns (total 13 columns):\n",
      "country                  129908 non-null object\n",
      "description              129971 non-null object\n",
      "designation              92506 non-null object\n",
      "points                   129971 non-null int64\n",
      "price                    120975 non-null float64\n",
      "province                 129908 non-null object\n",
      "region_1                 108724 non-null object\n",
      "region_2                 50511 non-null object\n",
      "taster_name              103727 non-null object\n",
      "taster_twitter_handle    98758 non-null object\n",
      "title                    129971 non-null object\n",
      "variety                  129970 non-null object\n",
      "winery                   129971 non-null object\n",
      "dtypes: float64(1), int64(1), object(11)\n",
      "memory usage: 13.9+ MB\n"
     ]
    }
   ],
   "source": [
    "data.info()"
   ]
  },
  {
   "cell_type": "markdown",
   "metadata": {},
   "source": [
    "### 可以看出数据集有129971行，13列，其中数值属性2列，标称属性11列。"
   ]
  },
  {
   "cell_type": "markdown",
   "metadata": {},
   "source": [
    "# 2.数据可视化和摘要"
   ]
  },
  {
   "cell_type": "markdown",
   "metadata": {},
   "source": [
    "### 2.1 标称属性数据摘要：\n",
    "上述表格给出的属性，共有11个标称属性，统计其频数"
   ]
  },
  {
   "cell_type": "code",
   "execution_count": 3,
   "metadata": {
    "scrolled": true
   },
   "outputs": [
    {
     "data": {
      "text/plain": [
       "US                        54504\n",
       "France                    22093\n",
       "Italy                     19540\n",
       "Spain                      6645\n",
       "Portugal                   5691\n",
       "Chile                      4472\n",
       "Argentina                  3800\n",
       "Austria                    3345\n",
       "Australia                  2329\n",
       "Germany                    2165\n",
       "New Zealand                1419\n",
       "South Africa               1401\n",
       "Israel                      505\n",
       "Greece                      466\n",
       "Canada                      257\n",
       "Hungary                     146\n",
       "Bulgaria                    141\n",
       "Romania                     120\n",
       "Uruguay                     109\n",
       "Turkey                       90\n",
       "Slovenia                     87\n",
       "Georgia                      86\n",
       "England                      74\n",
       "Croatia                      73\n",
       "Mexico                       70\n",
       "Moldova                      59\n",
       "Brazil                       52\n",
       "Lebanon                      35\n",
       "Morocco                      28\n",
       "Peru                         16\n",
       "Ukraine                      14\n",
       "Serbia                       12\n",
       "Macedonia                    12\n",
       "Czech Republic               12\n",
       "Cyprus                       11\n",
       "India                         9\n",
       "Switzerland                   7\n",
       "Luxembourg                    6\n",
       "Armenia                       2\n",
       "Bosnia and Herzegovina        2\n",
       "Slovakia                      1\n",
       "Egypt                         1\n",
       "China                         1\n",
       "Name: country, dtype: int64"
      ]
     },
     "execution_count": 3,
     "metadata": {},
     "output_type": "execute_result"
    }
   ],
   "source": [
    "data['country'].value_counts()"
   ]
  },
  {
   "cell_type": "code",
   "execution_count": 4,
   "metadata": {
    "scrolled": true
   },
   "outputs": [
    {
     "data": {
      "text/plain": [
       "Stalky aromas suggest hay and green herbs, with raspberry in the backdrop. It's hot and short in terms of mouthfeel, with herbal flavors leading the way and berry fruit running behind. Dry red fruit and herbal notes dominate the finish.                                                                               3\n",
       "This zesty red has pretty aromas that suggest small red berry, blue flower and a whiff of moist soil. The vibrant palate offers sour cherry, pomegranate and a hint of anise alongside zesty acidity and refined tannins.                                                                                                  3\n",
       "Ripe plum, game, truffle, leather and menthol are some of the aromas you'll find on this earthy wine. The tightly wound palate offers dried black cherry, chopped sage, mint and roasted coffee bean alongside raspy tannins that leave a mouth-drying finish.                                                             3\n",
       "Seductively tart in lemon pith, cranberry and pomegranate, this refreshing, light-bodied quaff is infinitely enjoyable, both on its own or at the table. It continues to expand on the palate into an increasing array of fresh flavors, finishing in cherry and orange.                                                   3\n",
       "Gravenstein apple, honeysuckle and jasmine aromas show on the relatively boisterous nose of this bottling from a large vineyard on Highway 46 east of Paso Robles. There is compellingly grippy texture to the sip, with ripe flavors of pear and honeydew melon. A salty acidity takes it to the next level.              3\n",
       "                                                                                                                                                                                                                                                                                                                          ..\n",
       "A good, clean Pinot that shows cool-climate acidity and dryness, and long hangtime raspberry, cherry and cola flavors. It's on the simple side, but a lovely wine to drink now.                                                                                                                                            1\n",
       "Simple and watery, it has oaky flavors of citrus fruits and peaches. There's not much going on, but it is dry and crisp in acidity.                                                                                                                                                                                        1\n",
       "Intensely perfumed with notes of violet petals, potpourri and herbs, this is a stunning, elegant Riesling that's also powerfully structured on the palate. It's intensely ripe with stonefruit, but quite dry in style with reverberating lime-juice acidity and a deliciously astringent lime-pith note on the finish.    1\n",
       "This Syrah was aged in 100% new oak, two thirds American and one third French. Barrel flavors abound, especially vanilla, and the fruit seems a bit overshadowed at this point in time. The tannins are aggressive, and overall this young wine seems to need more time in bottle to smooth out.                           1\n",
       "Aromas of toasted oak, nut, acacia flower and orchard fruit come together in the glass. The firm palate offers mature yellow apple, candied nectarine zest, toasted hazelnut and flinty mineral. Bright acidity provides balance.                                                                                          1\n",
       "Name: description, Length: 119955, dtype: int64"
      ]
     },
     "execution_count": 4,
     "metadata": {},
     "output_type": "execute_result"
    }
   ],
   "source": [
    "data['description'].value_counts()"
   ]
  },
  {
   "cell_type": "code",
   "execution_count": 5,
   "metadata": {},
   "outputs": [
    {
     "data": {
      "text/plain": [
       "Reserve                     2009\n",
       "Estate                      1322\n",
       "Reserva                     1259\n",
       "Riserva                      698\n",
       "Estate Grown                 621\n",
       "                            ... \n",
       "Coccineous Estate              1\n",
       "Capellanía Reserva             1\n",
       "Terroir Andrews Vineyard       1\n",
       "Adrian's Reserve               1\n",
       "Donna Madda                    1\n",
       "Name: designation, Length: 37979, dtype: int64"
      ]
     },
     "execution_count": 5,
     "metadata": {},
     "output_type": "execute_result"
    }
   ],
   "source": [
    "data['designation'].value_counts()"
   ]
  },
  {
   "cell_type": "code",
   "execution_count": 6,
   "metadata": {},
   "outputs": [
    {
     "data": {
      "text/plain": [
       "California      36247\n",
       "Washington       8639\n",
       "Bordeaux         5941\n",
       "Tuscany          5897\n",
       "Oregon           5373\n",
       "                ...  \n",
       "Cape Agulhas        1\n",
       "Corinthia           1\n",
       "Beotia              1\n",
       "Ticino              1\n",
       "Dolenjska           1\n",
       "Name: province, Length: 425, dtype: int64"
      ]
     },
     "execution_count": 6,
     "metadata": {},
     "output_type": "execute_result"
    }
   ],
   "source": [
    "data['province'].value_counts()"
   ]
  },
  {
   "cell_type": "code",
   "execution_count": 7,
   "metadata": {},
   "outputs": [
    {
     "data": {
      "text/plain": [
       "Napa Valley                4480\n",
       "Columbia Valley (WA)       4124\n",
       "Russian River Valley       3091\n",
       "California                 2629\n",
       "Paso Robles                2350\n",
       "                           ... \n",
       "McLaren Vale-Padthaway        1\n",
       "Clare Valley-Coonawarra       1\n",
       "Saussignac                    1\n",
       "Saint Guilhem le Désert       1\n",
       "Breganze                      1\n",
       "Name: region_1, Length: 1229, dtype: int64"
      ]
     },
     "execution_count": 7,
     "metadata": {},
     "output_type": "execute_result"
    }
   ],
   "source": [
    "data['region_1'].value_counts()"
   ]
  },
  {
   "cell_type": "code",
   "execution_count": 8,
   "metadata": {},
   "outputs": [
    {
     "data": {
      "text/plain": [
       "Central Coast        11065\n",
       "Sonoma                9028\n",
       "Columbia Valley       8103\n",
       "Napa                  6814\n",
       "Willamette Valley     3423\n",
       "California Other      2663\n",
       "Finger Lakes          1777\n",
       "Sierra Foothills      1462\n",
       "Napa-Sonoma           1169\n",
       "Central Valley        1062\n",
       "Southern Oregon        917\n",
       "Oregon Other           727\n",
       "Long Island            680\n",
       "North Coast            584\n",
       "Washington Other       534\n",
       "South Coast            272\n",
       "New York Other         231\n",
       "Name: region_2, dtype: int64"
      ]
     },
     "execution_count": 8,
     "metadata": {},
     "output_type": "execute_result"
    }
   ],
   "source": [
    "data['region_2'].value_counts()"
   ]
  },
  {
   "cell_type": "code",
   "execution_count": 9,
   "metadata": {},
   "outputs": [
    {
     "data": {
      "text/plain": [
       "Roger Voss            25514\n",
       "Michael Schachner     15134\n",
       "Kerin O’Keefe         10776\n",
       "Virginie Boone         9537\n",
       "Paul Gregutt           9532\n",
       "Matt Kettmann          6332\n",
       "Joe Czerwinski         5147\n",
       "Sean P. Sullivan       4966\n",
       "Anna Lee C. Iijima     4415\n",
       "Jim Gordon             4177\n",
       "Anne Krebiehl MW       3685\n",
       "Lauren Buzzeo          1835\n",
       "Susan Kostrzewa        1085\n",
       "Mike DeSimone           514\n",
       "Jeff Jenssen            491\n",
       "Alexander Peartree      415\n",
       "Carrie Dykes            139\n",
       "Fiona Adams              27\n",
       "Christina Pickard         6\n",
       "Name: taster_name, dtype: int64"
      ]
     },
     "execution_count": 9,
     "metadata": {},
     "output_type": "execute_result"
    }
   ],
   "source": [
    "data['taster_name'].value_counts()"
   ]
  },
  {
   "cell_type": "code",
   "execution_count": 10,
   "metadata": {},
   "outputs": [
    {
     "data": {
      "text/plain": [
       "@vossroger          25514\n",
       "@wineschach         15134\n",
       "@kerinokeefe        10776\n",
       "@vboone              9537\n",
       "@paulgwine           9532\n",
       "@mattkettmann        6332\n",
       "@JoeCz               5147\n",
       "@wawinereport        4966\n",
       "@gordone_cellars     4177\n",
       "@AnneInVino          3685\n",
       "@laurbuzz            1835\n",
       "@suskostrzewa        1085\n",
       "@worldwineguys       1005\n",
       "@bkfiona               27\n",
       "@winewchristina         6\n",
       "Name: taster_twitter_handle, dtype: int64"
      ]
     },
     "execution_count": 10,
     "metadata": {},
     "output_type": "execute_result"
    }
   ],
   "source": [
    "data['taster_twitter_handle'].value_counts()"
   ]
  },
  {
   "cell_type": "code",
   "execution_count": 11,
   "metadata": {},
   "outputs": [
    {
     "data": {
      "text/plain": [
       "Gloria Ferrer NV Sonoma Brut Sparkling (Sonoma County)                     11\n",
       "Korbel NV Brut Sparkling (California)                                       9\n",
       "Segura Viudas NV Extra Dry Sparkling (Cava)                                 8\n",
       "Segura Viudas NV Aria Estate Extra Dry Sparkling (Cava)                     7\n",
       "Gloria Ferrer NV Blanc de Noirs Sparkling (Carneros)                        7\n",
       "                                                                           ..\n",
       "Baywood 2006 Vineyard Select Symphony (California)                          1\n",
       "Laurens 1996 Clos des Demoiselles Brut Chenin Blanc (Crémant de Limoux)     1\n",
       "Goose Ridge 2006 Merlot (Columbia Valley (WA))                              1\n",
       "Tommasi 2012 Poggio al Tufo Cabernet Sauvignon (Toscana)                    1\n",
       "Firriato 2009 Harmonium Nero d'Avola (Sicilia)                              1\n",
       "Name: title, Length: 118840, dtype: int64"
      ]
     },
     "execution_count": 11,
     "metadata": {},
     "output_type": "execute_result"
    }
   ],
   "source": [
    "data['title'].value_counts()"
   ]
  },
  {
   "cell_type": "code",
   "execution_count": 12,
   "metadata": {},
   "outputs": [
    {
     "data": {
      "text/plain": [
       "Pinot Noir                   13272\n",
       "Chardonnay                   11753\n",
       "Cabernet Sauvignon            9472\n",
       "Red Blend                     8946\n",
       "Bordeaux-style Red Blend      6915\n",
       "                             ...  \n",
       "Pinot Gris-Gewürztraminer        1\n",
       "Tinta Amarela                    1\n",
       "Verdosilla                       1\n",
       "Forcallà                         1\n",
       "Gamza                            1\n",
       "Name: variety, Length: 707, dtype: int64"
      ]
     },
     "execution_count": 12,
     "metadata": {},
     "output_type": "execute_result"
    }
   ],
   "source": [
    "data['variety'].value_counts()"
   ]
  },
  {
   "cell_type": "code",
   "execution_count": 13,
   "metadata": {},
   "outputs": [
    {
     "data": {
      "text/plain": [
       "Wines & Winemakers                   222\n",
       "Testarossa                           218\n",
       "DFJ Vinhos                           215\n",
       "Williams Selyem                      211\n",
       "Louis Latour                         199\n",
       "                                    ... \n",
       "Eszterbauer                            1\n",
       "Ad Lib                                 1\n",
       "Writer's Block                         1\n",
       "Château La Lagune                      1\n",
       "Château Beaulieu Comtes de Tastes      1\n",
       "Name: winery, Length: 16757, dtype: int64"
      ]
     },
     "execution_count": 13,
     "metadata": {},
     "output_type": "execute_result"
    }
   ],
   "source": [
    "data['winery'].value_counts()"
   ]
  },
  {
   "cell_type": "markdown",
   "metadata": {},
   "source": [
    "### 2.2 数值属性数据摘要：\n",
    "上述表格给出的属性，共有2个数值属性，计算5数概括及缺失值的个数"
   ]
  },
  {
   "cell_type": "code",
   "execution_count": 14,
   "metadata": {
    "scrolled": false
   },
   "outputs": [
    {
     "data": {
      "text/plain": [
       "数值属性:       points\n",
       "Minimum:        80\n",
       "Q1:             86\n",
       "Median:         88\n",
       "Q3:             91\n",
       "Maximum:       100\n",
       "缺失值个数:           0\n",
       "dtype: object"
      ]
     },
     "execution_count": 14,
     "metadata": {},
     "output_type": "execute_result"
    }
   ],
   "source": [
    "def Five_Number_Summary_Null(x):\n",
    "    return pd.Series([x.name,x.min(),x.quantile(.25),x.median(),x.quantile(.75),x.max(),x.isnull().sum()], \n",
    "                     index = ['数值属性:','Minimum:','Q1:','Median:','Q3:','Maximum:','缺失值个数:'])\n",
    "\n",
    "Five_Number_Summary_Null(data['points'])"
   ]
  },
  {
   "cell_type": "code",
   "execution_count": 15,
   "metadata": {},
   "outputs": [
    {
     "data": {
      "text/plain": [
       "数值属性:       price\n",
       "Minimum:        4\n",
       "Q1:            17\n",
       "Median:        25\n",
       "Q3:            42\n",
       "Maximum:     3300\n",
       "缺失值个数:       8996\n",
       "dtype: object"
      ]
     },
     "execution_count": 15,
     "metadata": {},
     "output_type": "execute_result"
    }
   ],
   "source": [
    "Five_Number_Summary_Null(data['price'])"
   ]
  },
  {
   "cell_type": "markdown",
   "metadata": {},
   "source": [
    "### 2.3 数据可视化 "
   ]
  },
  {
   "cell_type": "code",
   "execution_count": 16,
   "metadata": {},
   "outputs": [
    {
     "name": "stdout",
     "output_type": "stream",
     "text": [
      "数值属性: points\n",
      "缺失值个数: 0\n"
     ]
    },
    {
     "data": {
      "image/png": "[encoded data removed]",
      "text/plain": [
       "<Figure size 1296x432 with 3 Axes>"
      ]
     },
     "metadata": {
      "needs_background": "light"
     },
     "output_type": "display_data"
    }
   ],
   "source": [
    "def visualize(x):\n",
    "    print(\"数值属性:\",x.name)\n",
    "    print('缺失值个数:',x.isnull().sum())\n",
    "    plt.figure(figsize=(18, 6))\n",
    "    plt.subplot(131)\n",
    "    x.plot.hist(grid=False,bins=20,title=x.name)\n",
    "    plt.subplot(132)\n",
    "    stats.probplot(x, dist=\"norm\", plot=plt)#检测数据分布\n",
    "    plt.subplot(133)\n",
    "    pd.DataFrame({x.name:x}).boxplot()\n",
    "    plt.show()\n",
    "    \n",
    "visualize(data['points'])"
   ]
  },
  {
   "cell_type": "markdown",
   "metadata": {},
   "source": [
    "### 数值属性\"points\"：由直方图可以看出，数据近似呈现正态分布，由qq图看出数据点都近似分布在一条直线附近，进一步验证了数值属性points符合正态分布。由盒图可以看出有两个离群点。"
   ]
  },
  {
   "cell_type": "code",
   "execution_count": 17,
   "metadata": {},
   "outputs": [
    {
     "name": "stdout",
     "output_type": "stream",
     "text": [
      "数值属性: price\n",
      "缺失值个数: 8996\n"
     ]
    },
    {
     "data": {
      "image/png": "[encoded data removed]",
      "text/plain": [
       "<Figure size 1296x432 with 3 Axes>"
      ]
     },
     "metadata": {
      "needs_background": "light"
     },
     "output_type": "display_data"
    }
   ],
   "source": [
    "visualize(data['price'])"
   ]
  },
  {
   "cell_type": "markdown",
   "metadata": {},
   "source": [
    "### 数值属性\"price\"：由直方图可以看出，数据绝大多数小于500，由qq图看出数据点不呈直线，说明了数值属性price不符合正态分布。由盒图可以看出有非常多的离群点。"
   ]
  },
  {
   "cell_type": "markdown",
   "metadata": {},
   "source": [
    "# 3.数据缺失处理"
   ]
  },
  {
   "cell_type": "markdown",
   "metadata": {},
   "source": [
    "### \"price\"属性有8996个缺失值，缺失原因可能是有些价格不是很好收集，或者有些稀有酒价格不好定义"
   ]
  },
  {
   "cell_type": "markdown",
   "metadata": {},
   "source": [
    "### 3.1 将缺失部分剔除，并重新可视化数据"
   ]
  },
  {
   "cell_type": "code",
   "execution_count": 18,
   "metadata": {},
   "outputs": [
    {
     "name": "stdout",
     "output_type": "stream",
     "text": [
      "数值属性: price\n",
      "缺失值个数: 0\n"
     ]
    },
    {
     "data": {
      "image/png": "[encoded data removed]",
      "text/plain": [
       "<Figure size 1296x432 with 3 Axes>"
      ]
     },
     "metadata": {
      "needs_background": "light"
     },
     "output_type": "display_data"
    }
   ],
   "source": [
    "visualize(data['price'].dropna())"
   ]
  },
  {
   "cell_type": "markdown",
   "metadata": {},
   "source": [
    "### 结论：处理后缺失值的个数为0，但可视化后可以发现，其分布并没有和以前有很大差距，可能因为缺失数据太少，剔除缺失值并不能显著改变原来的数据分布特性。"
   ]
  },
  {
   "cell_type": "markdown",
   "metadata": {},
   "source": [
    "### 3.2 用最高频率值来填补缺失值，并重新可视化数据"
   ]
  },
  {
   "cell_type": "code",
   "execution_count": 19,
   "metadata": {},
   "outputs": [
    {
     "name": "stdout",
     "output_type": "stream",
     "text": [
      "数值属性: price\n",
      "缺失值个数: 0\n"
     ]
    },
    {
     "data": {
      "image/png": "[encoded data removed]",
      "text/plain": [
       "<Figure size 1296x432 with 3 Axes>"
      ]
     },
     "metadata": {
      "needs_background": "light"
     },
     "output_type": "display_data"
    }
   ],
   "source": [
    "visualize(data['price'].fillna(data['price'].mode()[0]))"
   ]
  },
  {
   "cell_type": "markdown",
   "metadata": {},
   "source": [
    "### 结论：处理后缺失值的个数为0，可视化后其分布并没有和以前有很大差距，可能因为缺失数据太少，而频率最高值的加入并不能显著改变原来的数据分布特性。"
   ]
  },
  {
   "cell_type": "markdown",
   "metadata": {},
   "source": [
    "### 3.3 通过属性的相关关系来填补缺失值，并重新可视化数据"
   ]
  },
  {
   "cell_type": "markdown",
   "metadata": {},
   "source": [
    "### 用'points'数值属性来预测缺失值，随机森林拟合结果如下"
   ]
  },
  {
   "cell_type": "code",
   "execution_count": 20,
   "metadata": {},
   "outputs": [
    {
     "name": "stdout",
     "output_type": "stream",
     "text": [
      "数值属性: price\n",
      "缺失值个数: 0\n"
     ]
    },
    {
     "data": {
      "image/png": "[encoded data removed]",
      "text/plain": [
       "<Figure size 1296x432 with 3 Axes>"
      ]
     },
     "metadata": {
      "needs_background": "light"
     },
     "output_type": "display_data"
    }
   ],
   "source": [
    "train=data[data['price'].notnull()]\n",
    "X, Y=train[['points']], train[['price']]\n",
    "test=data[data['price'].isnull()]\n",
    "points=test[['points']]\n",
    "price=test['price']\n",
    "model=RandomForestRegressor(n_estimators=100,oob_score=True,random_state=1)\n",
    "model.fit(X,Y.values.ravel())\n",
    "predicted_Price=model.predict(points)\n",
    "data_pred = data.copy()#copy一份，防止影响原数据\n",
    "data_pred.loc[(data['price'].isnull()),'price']=predicted_Price\n",
    "visualize(data_pred['price'])"
   ]
  },
  {
   "cell_type": "markdown",
   "metadata": {},
   "source": [
    "### 结论：处理后缺失值的个数为0，可视化后其分布并没有和以前有很大差距，可能因为缺失数据太少，并且仅由‘points’一列来进行相关关系分析，效果不好也在情理之中。"
   ]
  },
  {
   "cell_type": "markdown",
   "metadata": {},
   "source": [
    "### 3.4 通过数据对象之间的相似性来填补缺失值，并重新可视化数据"
   ]
  },
  {
   "cell_type": "markdown",
   "metadata": {},
   "source": [
    "###  用knn算法来寻找相似性"
   ]
  },
  {
   "cell_type": "code",
   "execution_count": 21,
   "metadata": {},
   "outputs": [
    {
     "name": "stdout",
     "output_type": "stream",
     "text": [
      "数值属性: price\n",
      "缺失值个数: 0\n"
     ]
    },
    {
     "data": {
      "image/png": "[encoded data removed]",
      "text/plain": [
       "<Figure size 1296x432 with 3 Axes>"
      ]
     },
     "metadata": {
      "needs_background": "light"
     },
     "output_type": "display_data"
    }
   ],
   "source": [
    "train=data[data['price'].notnull()]\n",
    "X, Y=train[['points']], train[['price']]\n",
    "test=data[data['price'].isnull()]\n",
    "points=test[['points']]\n",
    "price=test['price']\n",
    "clf=KNeighborsClassifier(n_neighbors=3,weights='distance')#3临域\n",
    "clf.fit(X,Y.values.ravel())\n",
    "predicted_Price=clf.predict(points)\n",
    "data_pred_knn = data.copy()\n",
    "data_pred_knn.loc[(data['price'].isnull()),'price']=predicted_Price\n",
    "visualize(data_pred_knn['price'])"
   ]
  },
  {
   "cell_type": "markdown",
   "metadata": {},
   "source": [
    "### 结论：处理后缺失值的个数为0，可视化后其分布并没有和以前有很大差距，可能因为缺失数据太少，并且仅由‘points’一列来进行相似性，分析效果不好也在情理之中。"
   ]
  }
 ],
 "metadata": {
  "kernelspec": {
   "display_name": "Python 3",
   "language": "python",
   "name": "python3"
  },
  "language_info": {
   "codemirror_mode": {
    "name": "ipython",
    "version": 3
   },
   "file_extension": ".py",
   "mimetype": "text/x-python",
   "name": "python",
   "nbconvert_exporter": "python",
   "pygments_lexer": "ipython3",
   "version": "3.7.4"
  }
 },
 "nbformat": 4,
 "nbformat_minor": 2
}
